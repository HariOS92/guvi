{
  "nbformat": 4,
  "nbformat_minor": 0,
  "metadata": {
    "colab": {
      "name": "Assignment4_linear.ipynb",
      "provenance": [],
      "collapsed_sections": [],
      "authorship_tag": "ABX9TyPcFiamz/KFWjb5s0UuJo8q",
      "include_colab_link": true
    },
    "kernelspec": {
      "name": "python3",
      "display_name": "Python 3"
    },
    "language_info": {
      "name": "python"
    }
  },
  "cells": [
    {
      "cell_type": "markdown",
      "metadata": {
        "id": "view-in-github",
        "colab_type": "text"
      },
      "source": [
        "<a href=\"https://colab.research.google.com/github/HariOS92/guvi/blob/main/Assignment4_linear.ipynb\" target=\"_parent\"><img src=\"https://colab.research.google.com/assets/colab-badge.svg\" alt=\"Open In Colab\"/></a>"
      ]
    },
    {
      "cell_type": "code",
      "execution_count": 10,
      "metadata": {
        "colab": {
          "base_uri": "https://localhost:8080/"
        },
        "id": "PQeBQ9vLP6df",
        "outputId": "f76ed317-07cb-4241-e552-de44ba29a227"
      },
      "outputs": [
        {
          "output_type": "stream",
          "name": "stdout",
          "text": [
            "(400, 14) (105, 14) (400,)\n"
          ]
        },
        {
          "output_type": "execute_result",
          "data": {
            "text/plain": [
              "14.8"
            ]
          },
          "metadata": {},
          "execution_count": 10
        }
      ],
      "source": [
        "import numpy as np\n",
        "phi=np.loadtxt(\"/content/train.csv\",delimiter=\",\", usecols=range(14),skiprows=1)\n",
        "phi_test=np.loadtxt(\"/content/test.csv\",delimiter=\",\", usecols=range(14),skiprows=1)\n",
        "y=np.loadtxt(\"/content/train.csv\", delimiter=\",\", skiprows=1, usecols=(-1))\n",
        "print(phi.shape, phi_test.shape, y.shape)"
      ]
    },
    {
      "cell_type": "code",
      "source": [
        "from sklearn.preprocessing import MinMaxScaler\n",
        "scaler=MinMaxScaler()\n",
        "scaler.fit_transform(phi)\n",
        "scaler.fit(phi_test)\n",
        "phi\n",
        "y=np.log(y)\n",
        "y"
      ],
      "metadata": {
        "colab": {
          "base_uri": "https://localhost:8080/"
        },
        "id": "QzPHeJSo_9ah",
        "outputId": "cbff4ca4-c28c-4fdc-fe59-c0e37d9a7b3e"
      },
      "execution_count": 6,
      "outputs": [
        {
          "output_type": "execute_result",
          "data": {
            "text/plain": [
              "array([2.69462718, 3.21887582, 3.7208625 , 2.91235066, 2.98568194,\n",
              "       3.02529108, 2.7080502 , 2.59525471, 3.13983262, 2.98568194,\n",
              "       3.91202301, 3.09104245, 3.07731226, 1.60943791, 3.28466357,\n",
              "       2.11625551, 2.77881927, 3.0056826 , 3.34990409, 3.03495299,\n",
              "       3.38099467, 3.19047635, 2.89591194, 3.09557761, 3.17805383,\n",
              "       3.68386691, 2.91235066, 3.29953373, 3.17387846, 3.19867312,\n",
              "       3.05400118, 2.95491028, 2.99573227, 3.38777436, 2.94968834,\n",
              "       2.35137526, 3.33576958, 3.36729583, 3.03974916, 3.02529108,\n",
              "       3.41772668, 3.10906096, 3.5204608 , 2.8094027 , 3.34638915,\n",
              "       2.97552957, 3.33932198, 2.60268969, 2.87919846, 2.65324196,\n",
              "       2.12823171, 2.57261223, 2.72785283, 3.13113691, 3.02529108,\n",
              "       2.66722821, 3.19458313, 3.10906096, 3.37073817, 2.95491028,\n",
              "       3.04452244, 2.00148   , 2.79116511, 3.07731226, 2.8094027 ,\n",
              "       3.01062089, 2.92852352, 2.61006979, 2.97041447, 3.314186  ,\n",
              "       3.12236492, 3.19867312, 2.93916192, 2.7080502 , 3.12676054,\n",
              "       3.91202301, 3.21084365, 3.13549422, 3.12676054, 3.02529108,\n",
              "       2.62466859, 3.4339872 , 3.09104245, 3.47815842, 2.91777073,\n",
              "       3.73050113, 3.42426265, 3.40452517, 2.34180581, 2.17475172,\n",
              "       3.13983262, 3.35689712, 3.763523  , 3.17387846, 3.15273602,\n",
              "       2.57261223, 3.20680324, 2.77881927, 3.45315712, 3.18635263,\n",
              "       3.28091122, 3.42751469, 2.99573227, 2.8678989 , 3.21084365,\n",
              "       3.40452517, 3.56104608, 2.34180581, 2.11625551, 3.11794991,\n",
              "       2.44234704, 3.35689712, 3.5085559 , 3.80220814, 3.59731226,\n",
              "       3.15700042, 2.63188884, 3.49347266, 2.46809953, 2.42480273,\n",
              "       2.45958884, 2.83907846, 3.4657359 , 2.99071973, 3.06805294,\n",
              "       3.07731226, 3.58351894, 3.91202301, 2.62466859, 3.33220451,\n",
              "       3.91202301, 3.87743156, 2.58776404, 2.98568194, 3.0155349 ,\n",
              "       2.54944517, 3.06339092, 3.0301337 , 3.07731226, 2.97552957,\n",
              "       2.87919846, 3.06339092, 2.96527307, 3.39450839, 2.87919846,\n",
              "       3.14415228, 2.74727091, 3.91202301, 3.19458313, 2.58776404,\n",
              "       3.13549422, 3.55248683, 3.39450839, 2.59525471, 3.10009229,\n",
              "       2.96527307, 3.5085559 , 2.32238772, 3.01062089, 3.02042489,\n",
              "       2.68102153, 2.37954613, 2.85647021, 3.21084365, 2.67414865,\n",
              "       2.91235066, 2.16332303, 3.14415228, 3.10458668, 2.93916192,\n",
              "       3.11351531, 3.34638915, 2.99573227, 3.13983262, 2.68102153,\n",
              "       3.36729583, 3.13983262, 3.09104245, 3.14845336, 3.03974916,\n",
              "       2.66025954, 2.82137889, 3.18221184, 3.91202301, 3.62700405,\n",
              "       3.08648664, 3.13549422, 3.0301337 , 3.55248683, 2.87356464,\n",
              "       2.58776404, 3.00071982, 2.91777073, 2.74727091, 2.67414865,\n",
              "       2.90690106, 3.10009229, 3.18221184, 2.61006979, 3.56671182,\n",
              "       3.54385368, 2.86220088, 2.57261223, 2.72129543, 3.12676054,\n",
              "       2.81540872, 3.21887582, 3.81551211, 3.61630876, 3.02529108,\n",
              "       2.77881927, 2.73436751, 2.94443898, 3.84374416, 2.99573227,\n",
              "       2.98061864, 2.58021683, 3.44041809, 1.84054963, 3.21887582,\n",
              "       2.14006616, 2.90142159, 2.90690106, 3.2308044 , 3.58629287,\n",
              "       3.02042489, 2.54160199, 2.62466859, 3.16547505, 2.90142159,\n",
              "       3.02042489, 3.49650756, 3.78418963, 3.16124671, 3.07269331,\n",
              "       1.94591015, 3.05400118, 3.55820113, 2.97552957, 2.80336038,\n",
              "       3.6558396 , 2.87919846, 2.50959926, 3.14845336, 3.10009229,\n",
              "       3.14845336, 2.93916192, 2.57261223, 2.70136121, 2.83907846,\n",
              "       2.01490302, 2.92316158, 3.40452517, 2.79728133, 2.74727091,\n",
              "       2.96527307, 3.01062089, 2.92316158, 3.13113691, 3.07269331,\n",
              "       2.84490938, 2.2512918 , 2.4765384 , 3.8286414 , 2.87919846,\n",
              "       3.00071982, 2.96527307, 3.15273602, 2.63188884, 2.94968834,\n",
              "       2.56494936, 3.16547505, 2.59525471, 3.19458313, 2.93385687,\n",
              "       3.91202301, 3.91202301, 3.00071982, 2.86220088, 2.86220088,\n",
              "       2.6461748 , 3.04927304, 3.21887582, 3.08648664, 2.81540872,\n",
              "       2.9601051 , 3.09104245, 2.9601051 , 3.05400118, 3.20680324,\n",
              "       3.27336401, 2.54160199, 3.00071982, 3.09104245, 3.11794991,\n",
              "       3.22684399, 3.91202301, 2.14006616, 2.38876279, 2.97041447,\n",
              "       3.41114771, 2.66722821, 2.35137526, 3.14415228, 2.74727091,\n",
              "       1.60943791, 3.91202301, 2.94443898, 3.11794991, 2.99071973,\n",
              "       2.2617631 , 3.39785848, 2.96527307, 3.16968558, 3.7565381 ,\n",
              "       3.35689712, 2.8507065 , 3.19047635, 3.03495299, 2.75366071,\n",
              "       3.45631668, 2.84490938, 3.14845336, 2.4765384 , 3.48124009,\n",
              "       2.62466859, 3.91202301, 2.91777073, 2.72129543, 3.0155349 ,\n",
              "       2.9601051 , 1.97408103, 3.27336401, 2.83907846, 3.19458313,\n",
              "       3.88773031, 3.49953328, 2.38876279, 3.91202301, 2.92852352,\n",
              "       3.56671182, 3.13983262, 3.07731226, 3.08190997, 3.09104245,\n",
              "       3.13113691, 3.21887582, 2.46809953, 3.28091122, 2.88480071,\n",
              "       3.0056826 , 3.21084365, 2.17475172, 3.04452244, 3.16547505,\n",
              "       3.17387846, 2.60268969, 3.91202301, 2.92852352, 2.48490665,\n",
              "       2.99071973, 3.04452244, 3.05400118, 2.85647021, 3.16547505,\n",
              "       3.28091122, 2.74727091, 2.82137889, 3.05400118, 2.59525471,\n",
              "       3.63495111, 2.52572864, 1.7227666 , 3.77963382, 3.13113691,\n",
              "       1.97408103, 3.16124671, 3.17387846, 3.01062089, 3.314186  ,\n",
              "       3.37073817, 3.06339092, 3.17387846, 3.44998755, 3.48737508,\n",
              "       3.11794991, 2.85647021, 3.47196645, 3.29583687, 3.58905912,\n",
              "       2.73436751, 2.84490938, 3.27714473, 3.13549422, 3.50254988,\n",
              "       3.32862669, 3.20680324, 2.97041447, 3.0155349 , 3.11351531])"
            ]
          },
          "metadata": {},
          "execution_count": 6
        }
      ]
    },
    {
      "cell_type": "code",
      "source": [
        "def error_function(x_train,y_train,a,model):\n",
        "  from sklearn.model_selection import cross_validate\n",
        "  model.fit(x_train,y_train)\n",
        "  cross_test=cross_validate(model,x_train,y_train,cv=5,scoring=\"r2\")\n",
        "  print(model,\"results for\",a,\"is\\nTest score\",cross_test['test_score'].mean())"
      ],
      "metadata": {
        "id": "c1fRP0pTC2Hn"
      },
      "execution_count": 49,
      "outputs": []
    },
    {
      "cell_type": "code",
      "source": [
        "import warnings\n",
        "warnings.filterwarnings('ignore')\n",
        "\n",
        "from sklearn.linear_model import LinearRegression\n",
        "lr=LinearRegression(normalize=True)\n",
        "lr.fit(phi,y)\n",
        "y_pred=lr.predict(phi_test)\n",
        "phi_t=np.transpose(phi)\n",
        "f=open(\"output.csv\",\"w\")\n",
        "f.write(\"ID,Output\\n\")\n",
        "for x in zip(phi_t[0],y_pred):\n",
        "  f.write(\"{},{:.1f}\\n\".format(x[0],x[1]))\n",
        "f.close()\n",
        "#for i in range(len(y_pred)):\n",
        "  #arr=np.array([phi[i][0],y_pred[i]])\n",
        "  #arr=np.array(phi_test[i][0],y_pred[i])\n",
        "#np.savetxt('output.csv',arr,delimiter=\",\",header=[\"ID\",\"Output\"])\n",
        "#arr\n",
        "#np.array(phi_test['ID'],y_pred)\n",
        "#np.savetxt('output.csv',np.array(phi_test['ID'],y_pred),delimiter=\",\",header=[\"ID\",\"Output\"])\n",
        "#import pandas as pd\n",
        "#data=pd.DataFrame({'ID':int(phi_test[0]),'Output':float(y_pred)})\n",
        "#data"
      ],
      "metadata": {
        "id": "vq8upLYzLxDL"
      },
      "execution_count": 48,
      "outputs": []
    },
    {
      "cell_type": "code",
      "source": [
        "import warnings\n",
        "warnings.filterwarnings('ignore')\n",
        "\n",
        "from sklearn.linear_model import LinearRegression\n",
        "from sklearn.model_selection import cross_validate\n",
        "lr=LinearRegression(normalize=True)\n",
        "error_function(phi,y,1.75,lr)"
      ],
      "metadata": {
        "colab": {
          "base_uri": "https://localhost:8080/"
        },
        "id": "5mIZzEx3Z5uP",
        "outputId": "f661c7be-07a1-4530-e08a-ef43534ce796"
      },
      "execution_count": 50,
      "outputs": [
        {
          "output_type": "stream",
          "name": "stdout",
          "text": [
            "LinearRegression(normalize=True) results for 1.75 is\n",
            "Test score 0.7200489567304693\n"
          ]
        }
      ]
    },
    {
      "cell_type": "code",
      "source": [
        "from sklearn.linear_model import Lasso, Ridge\n",
        "for a in (1.75,1.5,1.3):\n",
        "  reg=Ridge(normalize=True, alpha=a)\n",
        "  error_function(phi,y,a,reg)\n",
        "for a in (1.75,1.5,1.3):\n",
        "  reg=Lasso(normalize=True, alpha=a)\n",
        "  error_function(phi,y,a,reg)"
      ],
      "metadata": {
        "colab": {
          "base_uri": "https://localhost:8080/"
        },
        "id": "67NTx7EUZDAM",
        "outputId": "15f359ab-281e-4ab6-ab4d-660458096f80"
      },
      "execution_count": 51,
      "outputs": [
        {
          "output_type": "stream",
          "name": "stdout",
          "text": [
            "Ridge(alpha=1.75, normalize=True) results for 1.75 is\n",
            "Test score 0.5684171710867311\n",
            "Ridge(alpha=1.5, normalize=True) results for 1.5 is\n",
            "Test score 0.5875624586305019\n",
            "Ridge(alpha=1.3, normalize=True) results for 1.3 is\n",
            "Test score 0.6040049773962848\n",
            "Lasso(alpha=1.75, normalize=True) results for 1.75 is\n",
            "Test score -0.018308870567480495\n",
            "Lasso(alpha=1.5, normalize=True) results for 1.5 is\n",
            "Test score -0.018308870567480495\n",
            "Lasso(alpha=1.3, normalize=True) results for 1.3 is\n",
            "Test score -0.018308870567480495\n"
          ]
        }
      ]
    }
  ]
}