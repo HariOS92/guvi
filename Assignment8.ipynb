{
  "cells": [
    {
      "cell_type": "markdown",
      "metadata": {
        "id": "view-in-github",
        "colab_type": "text"
      },
      "source": [
        "<a href=\"https://colab.research.google.com/github/HariOS92/guvi/blob/main/Assignment8.ipynb\" target=\"_parent\"><img src=\"https://colab.research.google.com/assets/colab-badge.svg\" alt=\"Open In Colab\"/></a>"
      ]
    },
    {
      "cell_type": "markdown",
      "metadata": {
        "id": "z1j2W7qV_WfO"
      },
      "source": [
        "# Assignment8"
      ]
    },
    {
      "cell_type": "code",
      "execution_count": 1,
      "metadata": {
        "collapsed": true,
        "id": "UAwwngZ7_Wfq"
      },
      "outputs": [],
      "source": [
        "import pandas as pd\n",
        "import matplotlib.pyplot as plt\n",
        "import numpy as np\n",
        "from sklearn import linear_model\n",
        "from sklearn.model_selection import train_test_split\n",
        "from sklearn import metrics"
      ]
    },
    {
      "cell_type": "markdown",
      "metadata": {
        "id": "I4u8sRAU_Wfy"
      },
      "source": [
        "# How Much is Your Car Worth?\n",
        "\n",
        "Data about the retail price of 2005 General Motors cars can be found in `car_data.csv`.\n",
        "\n",
        "The columns are:\n",
        "\n",
        "1. Price: suggested retail price of the used 2005 GM car in excellent condition.\n",
        "2. Mileage: number of miles the car has been driven\n",
        "3. Make: manufacturer of the car such as Saturn, Pontiac, and Chevrolet\n",
        "4. Model: specific models for each car manufacturer such as Ion, Vibe, Cavalier\n",
        "5. Trim (of car): specific type of car model such as SE Sedan 4D, Quad Coupe 2D          \n",
        "6. Type: body type such as sedan, coupe, etc.      \n",
        "7. Cylinder: number of cylinders in the engine        \n",
        "8. Liter: a more specific measure of engine size     \n",
        "9. Doors: number of doors           \n",
        "10. Cruise: indicator variable representing whether the car has cruise control (1 = cruise)\n",
        "11. Sound: indicator variable representing whether the car has upgraded speakers (1 = upgraded)\n",
        "12. Leather: indicator variable representing whether the car has leather seats (1 = leather)\n",
        "\n",
        "## Tasks, Part 1\n",
        "\n",
        "1. Find the linear regression equation for mileage vs price.\n",
        "2. Chart the original data and the equation on the chart.\n",
        "3. Find the equation's $R^2$ score (use the `.score` method) to determine whether the\n",
        "equation is a good fit for this data. (0.8 and greater is considered a strong correlation.)\n",
        "\n",
        "## Tasks, Part 2\n",
        "\n",
        "1. Use mileage, cylinders, liters, doors, cruise, sound, and leather to find the linear regression equation.\n",
        "2. Find the equation's $R^2$ score (use the `.score` method) to determine whether the\n",
        "equation is a good fit for this data. (0.8 and greater is considered a strong correlation.)\n",
        "3. Find the combination of the factors that is the best predictor for price.\n",
        "\n",
        "## Tasks, Hard Mode\n",
        "\n",
        "1. Research dummy variables in scikit-learn to see how to use the make, model, and body type.\n",
        "2. Find the best combination of factors to predict price."
      ]
    },
    {
      "cell_type": "code",
      "execution_count": 2,
      "metadata": {
        "colab": {
          "base_uri": "https://localhost:8080/"
        },
        "id": "PRvl1Vy-_Wf5",
        "outputId": "da9b92e6-8292-479d-dcd4-fb81d9f6cdb6"
      },
      "outputs": [
        {
          "output_type": "stream",
          "name": "stdout",
          "text": [
            "['Buick' 'Cadillac' 'Chevrolet' 'Pontiac' 'SAAB' 'Saturn']\n",
            "['Century' 'Lacrosse' 'Lesabre' 'Park Avenue' 'CST-V' 'CTS' 'Deville'\n",
            " 'STS-V6' 'STS-V8' 'XLR-V8' 'AVEO' 'Cavalier' 'Classic' 'Cobalt'\n",
            " 'Corvette' 'Impala' 'Malibu' 'Monte Carlo' 'Bonneville' 'G6' 'Grand Am'\n",
            " 'Grand Prix' 'GTO' 'Sunfire' 'Vibe' '9_3' '9_3 HO' '9_5' '9_5 HO'\n",
            " '9-2X AWD' 'Ion' 'L Series']\n",
            "['Sedan' 'Convertible' 'Hatchback' 'Coupe' 'Wagon']\n"
          ]
        }
      ],
      "source": [
        "df = pd.read_csv(\"car_data.csv\")\n",
        "df.head()\n",
        "print(df['Make'].unique())\n",
        "print(df['Model'].unique())\n",
        "print(df['Type'].unique())"
      ]
    },
    {
      "cell_type": "code",
      "source": [
        "#PART1\n",
        "x1=df.iloc[:,1].values\n",
        "y1=df.iloc[:,0].values\n",
        "x1_train,x1_test,y1_train,y1_test=train_test_split(x1,y1,test_size=0.2)\n",
        "lr1=linear_model.LinearRegression()\n",
        "x1_train=x1_train.reshape(-1,1)\n",
        "y1_train=y1_train.reshape(-1,1)\n",
        "x1_test=x1_test.reshape(-1,1)\n",
        "lr1.fit(x1_train,y1_train)\n",
        "y1_lin=lr1.coef_[0]*x1+lr1.intercept_\n",
        "print(\"Linear equation for milage to price is y=\"+str(lr1.coef_[0])+\"x1+\"+str(lr1.intercept_))\n",
        "plt.plot(x1,y1_lin)\n",
        "plt.scatter(x=df['Mileage'],y=df['Price'],c=\"y\")\n",
        "plt.xlabel(\"Mileage\")\n",
        "plt.ylabel(\"Price\")\n",
        "plt.show()\n",
        "y1_pred=lr1.predict(x1_test)\n",
        "print(\"R2 score is\",metrics.r2_score(y1_test,y1_pred))"
      ],
      "metadata": {
        "colab": {
          "base_uri": "https://localhost:8080/",
          "height": 314
        },
        "id": "i-t5wm2iA5ak",
        "outputId": "38f3e24c-0d86-40a7-8563-998677c86b54"
      },
      "execution_count": 5,
      "outputs": [
        {
          "output_type": "stream",
          "name": "stdout",
          "text": [
            "Linear equation for milage to price is y=[-0.16320019]x1+[24539.55309176]\n"
          ]
        },
        {
          "output_type": "display_data",
          "data": {
            "image/png": "[encoded data removed]",
            "text/plain": [
              "<Figure size 432x288 with 1 Axes>"
            ]
          },
          "metadata": {
            "needs_background": "light"
          }
        },
        {
          "output_type": "stream",
          "name": "stdout",
          "text": [
            "R2 score is 0.0260390915986366\n"
          ]
        }
      ]
    },
    {
      "cell_type": "code",
      "source": [
        "#PART2\n",
        "x2=df[['Mileage','Cylinder','Liter','Doors','Cruise','Sound','Leather']].to_numpy()\n",
        "y2=df[['Price']].to_numpy()\n",
        "x2_train,x2_test,y2_train,y2_test=train_test_split(x2,y2,test_size=0.2,random_state=10)\n",
        "lr2=linear_model.LinearRegression()\n",
        "lr2.fit(x2_train,y2_train)\n",
        "y_lin=\"\"\n",
        "for i in range(len(lr2.coef_[0]),0,-1):\n",
        "  y_lin+=str(lr2.coef_[0][i-1])+\"x\"+str(i)\n",
        "print(\"Linear equation is y=\"+y_lin+\"+\"+str(lr2.intercept_[0]))\n",
        "y2_pred=lr2.predict(x2_test)\n",
        "print(\"R2 score is\",metrics.r2_score(y2_test,y2_pred))\n",
        "from sklearn.feature_selection import RFE\n",
        "ft_select=linear_model.LinearRegression()\n",
        "selected=RFE(ft_select,n_features_to_select=4,step=1)\n",
        "selected=selected.fit(x2_train,y2_train)\n",
        "list(zip(['Mileage','Cylinder','Liter','Doors','Cruise','Sound','Leather'],selected.support_))"
      ],
      "metadata": {
        "colab": {
          "base_uri": "https://localhost:8080/"
        },
        "id": "uKd3ZHuJ9mYT",
        "outputId": "53b42edb-1634-48f8-cf95-e6b69294467f"
      },
      "execution_count": 25,
      "outputs": [
        {
          "output_type": "stream",
          "name": "stdout",
          "text": [
            "Linear equation is y=3399.9413587521944x7-1819.145265687352x66219.092562824822x5-1402.4877103643605x4-425.69816863458277x33467.591623474918x2-0.13519317155122787x1+5983.744090102266\n",
            "R2 score is 0.4645408706309192\n"
          ]
        },
        {
          "output_type": "execute_result",
          "data": {
            "text/plain": [
              "[('Mileage', False),\n",
              " ('Cylinder', True),\n",
              " ('Liter', False),\n",
              " ('Doors', False),\n",
              " ('Cruise', True),\n",
              " ('Sound', True),\n",
              " ('Leather', True)]"
            ]
          },
          "metadata": {},
          "execution_count": 25
        }
      ]
    },
    {
      "cell_type": "markdown",
      "source": [
        "With the features ('Mileage','Cylinder','Liter','Doors','Cruise','Sound','Leather') used in predicting Price in above model, the combination of Cylinder,Cruise,Sound,Leather helps in predicting Proce better"
      ],
      "metadata": {
        "id": "AbmqjMv6L-Fc"
      }
    },
    {
      "cell_type": "code",
      "source": [
        "!pip install scikit-learn==0.24.2"
      ],
      "metadata": {
        "colab": {
          "base_uri": "https://localhost:8080/",
          "height": 383
        },
        "id": "PHn1s4a5GtvS",
        "outputId": "313fa73a-8f03-4e61-cc63-2d8458a7555e"
      },
      "execution_count": 14,
      "outputs": [
        {
          "output_type": "stream",
          "name": "stdout",
          "text": [
            "Collecting scikit-learn==0.24.2\n",
            "  Downloading scikit_learn-0.24.2-cp37-cp37m-manylinux2010_x86_64.whl (22.3 MB)\n",
            "\u001b[K     |████████████████████████████████| 22.3 MB 1.6 MB/s \n",
            "\u001b[?25hRequirement already satisfied: joblib>=0.11 in /usr/local/lib/python3.7/dist-packages (from scikit-learn==0.24.2) (1.1.0)\n",
            "Requirement already satisfied: numpy>=1.13.3 in /usr/local/lib/python3.7/dist-packages (from scikit-learn==0.24.2) (1.21.5)\n",
            "Requirement already satisfied: scipy>=0.19.1 in /usr/local/lib/python3.7/dist-packages (from scikit-learn==0.24.2) (1.4.1)\n",
            "Requirement already satisfied: threadpoolctl>=2.0.0 in /usr/local/lib/python3.7/dist-packages (from scikit-learn==0.24.2) (3.1.0)\n",
            "Installing collected packages: scikit-learn\n",
            "  Attempting uninstall: scikit-learn\n",
            "    Found existing installation: scikit-learn 1.0.2\n",
            "    Uninstalling scikit-learn-1.0.2:\n",
            "      Successfully uninstalled scikit-learn-1.0.2\n",
            "\u001b[31mERROR: pip's dependency resolver does not currently take into account all the packages that are installed. This behaviour is the source of the following dependency conflicts.\n",
            "yellowbrick 1.4 requires scikit-learn>=1.0.0, but you have scikit-learn 0.24.2 which is incompatible.\u001b[0m\n",
            "Successfully installed scikit-learn-0.24.2\n"
          ]
        },
        {
          "output_type": "display_data",
          "data": {
            "application/vnd.colab-display-data+json": {
              "pip_warning": {
                "packages": [
                  "sklearn"
                ]
              }
            }
          },
          "metadata": {}
        }
      ]
    },
    {
      "cell_type": "code",
      "source": [
        "#HARD\n",
        "dummy_make=pd.get_dummies(df['Make'])\n",
        "dummy_model=pd.get_dummies(df['Model'])\n",
        "dummy_type=pd.get_dummies(df['Type'])\n",
        "df_dummy=pd.concat([dummy_make,dummy_model,dummy_type,df['Price']],axis=1)\n",
        "df_dummy.head()\n",
        "xdummy=df_dummy.iloc[:,:-1].values\n",
        "ydummy=df_dummy.iloc[:,-1].values\n",
        "xdummy_train,xdummy_test,ydummy_train,ydummy_test=train_test_split(xdummy,ydummy,test_size=0.2,random_state=5)\n",
        "from sklearn.feature_selection import SequentialFeatureSelector\n",
        "dummy_select=SequentialFeatureSelector(linear_model.LinearRegression(),n_features_to_select=10)\n",
        "dummy_select.fit(xdummy_train,ydummy_train)\n",
        "list(zip(df_dummy.columns,dummy_select.get_support()))\n",
        "#df_dummy.corr()"
      ],
      "metadata": {
        "colab": {
          "base_uri": "https://localhost:8080/"
        },
        "id": "ZiKg90D_MgUq",
        "outputId": "a98ec36f-c510-4230-8277-64456d119f92"
      },
      "execution_count": 14,
      "outputs": [
        {
          "output_type": "execute_result",
          "data": {
            "text/plain": [
              "[('Buick', True),\n",
              " ('Cadillac', True),\n",
              " ('Chevrolet', False),\n",
              " ('Pontiac', False),\n",
              " ('SAAB', True),\n",
              " ('Saturn', False),\n",
              " ('9-2X AWD', False),\n",
              " ('9_3', False),\n",
              " ('9_3 HO', False),\n",
              " ('9_5', False),\n",
              " ('9_5 HO', False),\n",
              " ('AVEO', True),\n",
              " ('Bonneville', False),\n",
              " ('CST-V', False),\n",
              " ('CTS', True),\n",
              " ('Cavalier', True),\n",
              " ('Century', False),\n",
              " ('Classic', False),\n",
              " ('Cobalt', False),\n",
              " ('Corvette', True),\n",
              " ('Deville', False),\n",
              " ('G6', False),\n",
              " ('GTO', True),\n",
              " ('Grand Am', False),\n",
              " ('Grand Prix', False),\n",
              " ('Impala', False),\n",
              " ('Ion', False),\n",
              " ('L Series', False),\n",
              " ('Lacrosse', False),\n",
              " ('Lesabre', False),\n",
              " ('Malibu', False),\n",
              " ('Monte Carlo', False),\n",
              " ('Park Avenue', False),\n",
              " ('STS-V6', False),\n",
              " ('STS-V8', False),\n",
              " ('Sunfire', False),\n",
              " ('Vibe', False),\n",
              " ('XLR-V8', True),\n",
              " ('Convertible', True),\n",
              " ('Coupe', False),\n",
              " ('Hatchback', False),\n",
              " ('Sedan', False),\n",
              " ('Wagon', False)]"
            ]
          },
          "metadata": {},
          "execution_count": 14
        }
      ]
    }
  ],
  "metadata": {
    "kernelspec": {
      "display_name": "Python 3",
      "language": "python",
      "name": "python3"
    },
    "language_info": {
      "codemirror_mode": {
        "name": "ipython",
        "version": 3
      },
      "file_extension": ".py",
      "mimetype": "text/x-python",
      "name": "python",
      "nbconvert_exporter": "python",
      "pygments_lexer": "ipython3",
      "version": "3.8.3"
    },
    "colab": {
      "name": "Assignment8.ipynb",
      "provenance": [],
      "collapsed_sections": [],
      "include_colab_link": true
    }
  },
  "nbformat": 4,
  "nbformat_minor": 0
}